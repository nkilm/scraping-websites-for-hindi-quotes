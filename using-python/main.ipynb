{
 "cells": [
  {
   "cell_type": "code",
   "execution_count": 1,
   "id": "national-development",
   "metadata": {},
   "outputs": [],
   "source": [
    "from requests import get\n",
    "from json import dumps\n",
    "# URL = \"https://muskaanhindi.com/motivational-quotes-in-hindi/\"\n",
    "# SAD_SHAYARI_URL = \"https://muskaanhindi.com/sad-shayari-images/\"\n",
    "# LOVE_SHAYARI_URL = \"https://muskaanhindi.com/romantic-shayari/\"\n",
    "# ATTITUDE_SHAYARI_URL = \"https://muskaanhindi.com/attitude-shayari-in-hindi/\"\n",
    "# SUCCESS_SHAYARI_URL = \"https://muskaanhindi.com/success-quotes-in-hindi/\"\n",
    "POSITIVE_THINKING_URL = \"https://muskaanhindi.com/positive-thinking-quotes-in-hindi/\"\n",
    "\n",
    "page = get(POSITIVE_THINKING_URL)\n",
    "\n",
    "# page"
   ]
  },
  {
   "cell_type": "code",
   "execution_count": 2,
   "id": "opposed-adoption",
   "metadata": {},
   "outputs": [],
   "source": [
    "from bs4 import BeautifulSoup\n",
    "soup = BeautifulSoup(page.content,\"xml\") #html5lib #lxml #html.parser\n",
    "# print(soup)"
   ]
  },
  {
   "cell_type": "code",
   "execution_count": 3,
   "id": "diverse-focus",
   "metadata": {
    "scrolled": true
   },
   "outputs": [],
   "source": [
    "result = soup.find_all(\"blockquote\")\n",
    "# for i in result:\n",
    "#     var= i.text.replace(\"\\n\",\"\")\n",
    "    # print(i.text.strip())\n",
    "    "
   ]
  },
  {
   "cell_type": "markdown",
   "id": "valid-asian",
   "metadata": {},
   "source": [
    "## Writing the output to the file"
   ]
  },
  {
   "cell_type": "code",
   "execution_count": 4,
   "id": "intermediate-yukon",
   "metadata": {},
   "outputs": [
    {
     "name": "stdout",
     "output_type": "stream",
     "text": [
      "True\n"
     ]
    }
   ],
   "source": [
    "with open(\"./data/hindiPositiveThiningQuotes.json\",\"w\",encoding=\"utf-8\") as f:\n",
    "#     string = dumps({\"name\": \"Triveni\"})\n",
    "#     f.write(string)\n",
    "    result = soup.find_all(\"blockquote\")\n",
    "    for i in result:\n",
    "        jsonString= dumps({\"quote\": str(i.text.strip())})\n",
    "        f.write(str({\"quote\": i.text.strip()})+\",\\n\")\n",
    "        \n",
    "print(f.closed)"
   ]
  },
  {
   "cell_type": "code",
   "execution_count": null,
   "id": "solid-battle",
   "metadata": {},
   "outputs": [],
   "source": []
  },
  {
   "cell_type": "code",
   "execution_count": null,
   "id": "powered-government",
   "metadata": {},
   "outputs": [],
   "source": []
  }
 ],
 "metadata": {
  "kernelspec": {
   "display_name": "Python 3",
   "language": "python",
   "name": "python3"
  },
  "language_info": {
   "codemirror_mode": {
    "name": "ipython",
    "version": 3
   },
   "file_extension": ".py",
   "mimetype": "text/x-python",
   "name": "python",
   "nbconvert_exporter": "python",
   "pygments_lexer": "ipython3",
   "version": "3.9.6"
  }
 },
 "nbformat": 4,
 "nbformat_minor": 5
}
